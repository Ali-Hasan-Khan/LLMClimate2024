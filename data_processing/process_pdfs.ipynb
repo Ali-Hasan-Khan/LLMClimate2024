{
 "cells": [
  {
   "cell_type": "code",
   "execution_count": 1,
   "metadata": {},
   "outputs": [
    {
     "name": "stdout",
     "output_type": "stream",
     "text": [
      "Defaulting to user installation because normal site-packages is not writeable\n",
      "Collecting pypdf2\n",
      "  Downloading pypdf2-3.0.1-py3-none-any.whl (232 kB)\n",
      "\u001b[2K     \u001b[90m━━━━━━━━━━━━━━━━━━━━━━━━━━━━━━━━━━━━━\u001b[0m \u001b[32m232.6/232.6 KB\u001b[0m \u001b[31m702.2 kB/s\u001b[0m eta \u001b[36m0:00:00\u001b[0ma \u001b[36m0:00:01\u001b[0m\n",
      "\u001b[?25hInstalling collected packages: pypdf2\n",
      "Successfully installed pypdf2-3.0.1\n"
     ]
    }
   ],
   "source": [
    "!pip install pypdf2"
   ]
  },
  {
   "cell_type": "code",
   "execution_count": 75,
   "metadata": {},
   "outputs": [],
   "source": [
    "import re\n",
    "\n",
    "def find_sections(page):\n",
    "    splits = re.split(\"\\n[A-E]\\.(?:(?:\\d\\.)?\\d)?\", page)\n",
    "    return splits\n",
    "\n",
    "def process(section, last=False):\n",
    "    section = re.sub(\"Summary for Policymakers\", \"\", section)\n",
    "    section = re.sub(\"^\\d\", \"\", section)\n",
    "    section = re.sub(\"\\d$\", \"\", section)\n",
    "    if last:\n",
    "        section = re.split(\"\\n\\d{1,2} [A-Z]\", section)[0]\n",
    "        section = re.split(\"\\nFigure SPM\", section)[0]\n",
    "        section = re.split(\"\\nTable SPM\", section)[0]\n",
    "    if section.startswith(\"Figure SPM\"):\n",
    "        section = \"\"\n",
    "    if section.startswith(\"Table SPM\"):\n",
    "        section = \"\"\n",
    "    return section    \n",
    "\n",
    "def process_pdf(\n",
    "        pdf_reader_object, \n",
    "        page_range):\n",
    "    \n",
    "    results = {}\n",
    "\n",
    "    continuing = False\n",
    "\n",
    "    for pidx in range(page_range[0], page_range[1]):\n",
    "        text = pdf_reader_object.pages[pidx].extract_text()\n",
    "        headings = re.findall(\"\\n([A-E]\\.(?:(?:\\d\\.)?\\d)?)\", text)\n",
    "        sections = find_sections(text)\n",
    "\n",
    "        new_sections = []\n",
    "        for idx, section in enumerate(sections):\n",
    "            section = process(section)\n",
    "            if section:\n",
    "                new_sections.append(section)\n",
    "\n",
    "        if not new_sections:\n",
    "            continue\n",
    "\n",
    "        if continuing:\n",
    "            results[last_key]= results[last_key] + \" \" + new_sections.pop(0)\n",
    "            continuing = False\n",
    "\n",
    "        if len(new_sections)>len(headings):\n",
    "            for head, section in zip(headings, new_sections[1:]):\n",
    "                results[head] = section\n",
    "            last_key = head\n",
    "            if not section.endswith(\"}\"):\n",
    "                continuing = True\n",
    "        elif:\n",
    "            print(pidx)\n",
    "    return results"
   ]
  },
  {
   "cell_type": "code",
   "execution_count": 76,
   "metadata": {},
   "outputs": [
    {
     "name": "stdout",
     "output_type": "stream",
     "text": [
      "13\n",
      "18\n",
      "20\n",
      "22\n",
      "24\n",
      "26\n",
      "28\n",
      "31\n",
      "34\n",
      "38\n"
     ]
    }
   ],
   "source": [
    "prova = process_pdf(pdf, (9, 39))"
   ]
  },
  {
   "cell_type": "code",
   "execution_count": 66,
   "metadata": {},
   "outputs": [
    {
     "name": "stdout",
     "output_type": "stream",
     "text": [
      " Effective climate governance enables mitigation and adaptation. Effective governance provides overall direction on \n",
      "setting targets and priorities and mainstreaming climate action across policy domains and levels, based on national \n",
      "circumstances and in the context of international cooperation. It enhances monitoring and evaluation and regulatory \n",
      "certainty, prioritising inclusive, transparent and equitable decision-making, and improves access to nance and \n",
      "technology (see C.7). (high condence) {2.2.2, 4.7}\n"
     ]
    }
   ],
   "source": [
    "print(prova[\"C.6.1\"])"
   ]
  },
  {
   "cell_type": "code",
   "execution_count": 81,
   "metadata": {},
   "outputs": [],
   "source": [
    "new_sections = []\n",
    "for section in find_sections(prova_text):\n",
    "    section = process(section)\n",
    "    if section:\n",
    "        new_sections.append(section)"
   ]
  },
  {
   "cell_type": "code",
   "execution_count": 82,
   "metadata": {},
   "outputs": [
    {
     "data": {
      "text/plain": [
       "['representative generations (born in 1950, 1980 and 2020). Future projections (2021–2100) of changes in global surface temperature are shown for very low \\n(SSP1-1.9), low (SSP1-2.6), intermediate (SSP2-4.5), high (SSP3-7.0) and very high (SSP5-8.5) GHG emissions scenarios. Changes in annual global surface \\ntemperatures are presented as ‘climate stripes’, with future projections showing the human-caused long-term trends and continuing modulation by natural \\nvariability (represented here using observed levels of past natural variability). Colours on the generational icons correspond to the global surface temperature \\nstripes for each year, with segments on future icons differentiating possible future experiences. {2.1, 2.1.2, Figure 2.1, Table 2.1, Figure 2.3, Cross-Section Box.2, \\n3.1, Figure 3.3, 4.1, 4.3} (Box SPM.1)\\nCurrent Progress in Adaptation and Gaps and Challenges',\n",
       " ' Adaptation planning and implementation has progressed across all sectors and regions, \\nwith documented bene\\ue01fts and varying effectiveness. Despite progress, adaptation gaps \\nexist, and will continue to grow at current rates of implementation. Hard and soft limits to \\nadaptation have been reached in some ecosystems and regions. Maladaptation is happening \\nin some sectors and regions. Current global \\ue01fnancial \\ue01eows for adaptation are insuf\\ue01fcient \\nfor, and constrain implementation of, adaptation options, especially in developing countries \\n(high con\\ue01fdence). {2.2, 2.3}',\n",
       " ' Progress in adaptation planning and implementation has been observed across all sectors and regions, generating \\nmultiple bene\\ue01ets (very high con\\ue01fdence). Growing public and political awareness of climate impacts and risks has \\nresulted in at least 170 countries and many cities including adaptation in their climate policies and planning processes \\n(high con\\ue01fdence). {2.2.3}',\n",
       " ' Effectiveness15 of adaptation in reducing climate risks16 is documented for speci\\ue01ec contexts, sectors and regions (high \\ncon\\ue01fdence). Examples of effective adaptation options include: cultivar improvements, on-farm water management and \\nstorage, soil moisture conservation, irrigation, agroforestry, community-based adaptation, farm and landscape level \\ndiversi\\ue01ecation in agriculture, sustainable land management approaches, use of agroecological principles and practices \\nand other approaches that work with natural processes (high con\\ue01fdence). Ecosystem-based adaptation17 approaches \\nsuch as urban greening, restoration of wetlands and upstream forest ecosystems have been effective in reducing \\n\\ue01dood risks and urban heat (high con\\ue01fdence). Combinations of non-structural measures like early warning systems and \\nstructural measures like levees have reduced loss of lives in case of inland \\ue01dooding (medium con\\ue01fdence). Adaptation \\noptions such as disaster risk management, early warning systems, climate services and social safety nets have broad \\napplicability across multiple sectors (high con\\ue01fdence). {2.2.3}',\n",
       " ' Most observed adaptation responses are fragmented, incremental18, sector-speci\\ue01ec and unequally distributed across \\nregions. Despite progress, adaptation gaps exist across sectors and regions, and will continue to grow under current \\nlevels of implementation, with the largest adaptation gaps among lower income groups. (high con\\ue01fdence) {2.3.2}',\n",
       " ' There is increased evidence of maladaptation in various sectors and regions. Maladaptation especially affects \\nmarginalised and vulnerable groups adversely. (high con\\ue01fdence) {2.3.2}',\n",
       " ' Soft limits to adaptation are currently being experienced by small-scale farmers and households along some low-\\nlying coastal areas (medium con\\ue01fdence) resulting from \\ue01enancial, governance, institutional and policy constraints \\n(high con\\ue01fdence). Some tropical, coastal, polar and mountain ecosystems have reached hard adaptation limits (high \\ncon\\ue01fdence). Adaptation does not prevent all losses and damages, even with effective adaptation and before reaching \\nsoft and hard limits (high con\\ue01fdence). {2.3.2}\\n15 Effectiveness refers here to the extent to which an adaptation option is anticipated or observed to reduce climate-related risk. {2.2.3}\\n16 See Annex I: Glossary. {2.2.3}\\n17 Ecosystem-based Adaptation (EbA) is recognized internationally under the Convention on Biological Diversity (CBD14/5). A related concept is Nature-based \\nSolutions (NbS), see Annex I: Glossary.\\n18 Incremental adaptations to change in climate are understood as extensions of actions and behaviours that already reduce the losses or enhance the \\nbene\\ue01fts of natural variations in extreme weather/climate events. {2.3.2}']"
      ]
     },
     "execution_count": 82,
     "metadata": {},
     "output_type": "execute_result"
    }
   ],
   "source": [
    "new_sections"
   ]
  },
  {
   "cell_type": "code",
   "execution_count": 1,
   "metadata": {},
   "outputs": [],
   "source": [
    "pdf_path=\"IPCC_AR6_SYR_SPM.pdf\""
   ]
  },
  {
   "cell_type": "code",
   "execution_count": 7,
   "metadata": {},
   "outputs": [],
   "source": [
    "from PyPDF2 import PdfReader\n",
    "\n",
    "pdf = PdfReader(open(pdf_path, \"rb\"))"
   ]
  },
  {
   "cell_type": "code",
   "execution_count": 77,
   "metadata": {},
   "outputs": [],
   "source": [
    "prova_text = pdf.pages[13].extract_text()"
   ]
  },
  {
   "cell_type": "code",
   "execution_count": 79,
   "metadata": {},
   "outputs": [
    {
     "name": "stdout",
     "output_type": "stream",
     "text": [
      "8Summary for PolicymakersSummary for Policymakersrepresentative generations (born in 1950, 1980 and 2020). Future projections (2021–2100) of changes in global surface temperature are shown for very low \n",
      "(SSP1-1.9), low (SSP1-2.6), intermediate (SSP2-4.5), high (SSP3-7.0) and very high (SSP5-8.5) GHG emissions scenarios. Changes in annual global surface \n",
      "temperatures are presented as ‘climate stripes’, with future projections showing the human-caused long-term trends and continuing modulation by natural \n",
      "variability (represented here using observed levels of past natural variability). Colours on the generational icons correspond to the global surface temperature \n",
      "stripes for each year, with segments on future icons differentiating possible future experiences. {2.1, 2.1.2, Figure 2.1, Table 2.1, Figure 2.3, Cross-Section Box.2, \n",
      "3.1, Figure 3.3, 4.1, 4.3} (Box SPM.1)\n",
      "Current Progress in Adaptation and Gaps and Challenges\n",
      "A.3 Adaptation planning and implementation has progressed across all sectors and regions, \n",
      "with documented benets and varying effectiveness. Despite progress, adaptation gaps \n",
      "exist, and will continue to grow at current rates of implementation. Hard and soft limits to \n",
      "adaptation have been reached in some ecosystems and regions. Maladaptation is happening \n",
      "in some sectors and regions. Current global nancial ows for adaptation are insufcient \n",
      "for, and constrain implementation of, adaptation options, especially in developing countries \n",
      "(high condence). {2.2, 2.3}\n",
      "A.3.1 Progress in adaptation planning and implementation has been observed across all sectors and regions, generating \n",
      "multiple benets (very high condence). Growing public and political awareness of climate impacts and risks has \n",
      "resulted in at least 170 countries and many cities including adaptation in their climate policies and planning processes \n",
      "(high condence). {2.2.3}\n",
      "A.3.2 Effectiveness15 of adaptation in reducing climate risks16 is documented for specic contexts, sectors and regions (high \n",
      "condence). Examples of effective adaptation options include: cultivar improvements, on-farm water management and \n",
      "storage, soil moisture conservation, irrigation, agroforestry, community-based adaptation, farm and landscape level \n",
      "diversication in agriculture, sustainable land management approaches, use of agroecological principles and practices \n",
      "and other approaches that work with natural processes (high condence). Ecosystem-based adaptation17 approaches \n",
      "such as urban greening, restoration of wetlands and upstream forest ecosystems have been effective in reducing \n",
      "ood risks and urban heat (high condence). Combinations of non-structural measures like early warning systems and \n",
      "structural measures like levees have reduced loss of lives in case of inland ooding (medium condence). Adaptation \n",
      "options such as disaster risk management, early warning systems, climate services and social safety nets have broad \n",
      "applicability across multiple sectors (high condence). {2.2.3}\n",
      "A.3.3 Most observed adaptation responses are fragmented, incremental18, sector-specic and unequally distributed across \n",
      "regions. Despite progress, adaptation gaps exist across sectors and regions, and will continue to grow under current \n",
      "levels of implementation, with the largest adaptation gaps among lower income groups. (high condence) {2.3.2}\n",
      "A.3.4 There is increased evidence of maladaptation in various sectors and regions. Maladaptation especially affects \n",
      "marginalised and vulnerable groups adversely. (high condence) {2.3.2}\n",
      "A.3.5 Soft limits to adaptation are currently being experienced by small-scale farmers and households along some low-\n",
      "lying coastal areas (medium condence) resulting from nancial, governance, institutional and policy constraints \n",
      "(high condence). Some tropical, coastal, polar and mountain ecosystems have reached hard adaptation limits (high \n",
      "condence). Adaptation does not prevent all losses and damages, even with effective adaptation and before reaching \n",
      "soft and hard limits (high condence). {2.3.2}\n",
      "15 Effectiveness refers here to the extent to which an adaptation option is anticipated or observed to reduce climate-related risk. {2.2.3}\n",
      "16 See Annex I: Glossary. {2.2.3}\n",
      "17 Ecosystem-based Adaptation (EbA) is recognized internationally under the Convention on Biological Diversity (CBD14/5). A related concept is Nature-based \n",
      "Solutions (NbS), see Annex I: Glossary.\n",
      "18 Incremental adaptations to change in climate are understood as extensions of actions and behaviours that already reduce the losses or enhance the \n",
      "benets of natural variations in extreme weather/climate events. {2.3.2}\n"
     ]
    }
   ],
   "source": [
    "print(prova_text)"
   ]
  },
  {
   "cell_type": "code",
   "execution_count": 78,
   "metadata": {},
   "outputs": [
    {
     "data": {
      "text/plain": [
       "['8Summary for PolicymakersSummary for Policymakersrepresentative generations (born in 1950, 1980 and 2020). Future projections (2021–2100) of changes in global surface temperature are shown for very low \\n(SSP1-1.9), low (SSP1-2.6), intermediate (SSP2-4.5), high (SSP3-7.0) and very high (SSP5-8.5) GHG emissions scenarios. Changes in annual global surface \\ntemperatures are presented as ‘climate stripes’, with future projections showing the human-caused long-term trends and continuing modulation by natural \\nvariability (represented here using observed levels of past natural variability). Colours on the generational icons correspond to the global surface temperature \\nstripes for each year, with segments on future icons differentiating possible future experiences. {2.1, 2.1.2, Figure 2.1, Table 2.1, Figure 2.3, Cross-Section Box.2, \\n3.1, Figure 3.3, 4.1, 4.3} (Box SPM.1)\\nCurrent Progress in Adaptation and Gaps and Challenges',\n",
       " ' Adaptation planning and implementation has progressed across all sectors and regions, \\nwith documented bene\\ue01fts and varying effectiveness. Despite progress, adaptation gaps \\nexist, and will continue to grow at current rates of implementation. Hard and soft limits to \\nadaptation have been reached in some ecosystems and regions. Maladaptation is happening \\nin some sectors and regions. Current global \\ue01fnancial \\ue01eows for adaptation are insuf\\ue01fcient \\nfor, and constrain implementation of, adaptation options, especially in developing countries \\n(high con\\ue01fdence). {2.2, 2.3}',\n",
       " ' Progress in adaptation planning and implementation has been observed across all sectors and regions, generating \\nmultiple bene\\ue01ets (very high con\\ue01fdence). Growing public and political awareness of climate impacts and risks has \\nresulted in at least 170 countries and many cities including adaptation in their climate policies and planning processes \\n(high con\\ue01fdence). {2.2.3}',\n",
       " ' Effectiveness15 of adaptation in reducing climate risks16 is documented for speci\\ue01ec contexts, sectors and regions (high \\ncon\\ue01fdence). Examples of effective adaptation options include: cultivar improvements, on-farm water management and \\nstorage, soil moisture conservation, irrigation, agroforestry, community-based adaptation, farm and landscape level \\ndiversi\\ue01ecation in agriculture, sustainable land management approaches, use of agroecological principles and practices \\nand other approaches that work with natural processes (high con\\ue01fdence). Ecosystem-based adaptation17 approaches \\nsuch as urban greening, restoration of wetlands and upstream forest ecosystems have been effective in reducing \\n\\ue01dood risks and urban heat (high con\\ue01fdence). Combinations of non-structural measures like early warning systems and \\nstructural measures like levees have reduced loss of lives in case of inland \\ue01dooding (medium con\\ue01fdence). Adaptation \\noptions such as disaster risk management, early warning systems, climate services and social safety nets have broad \\napplicability across multiple sectors (high con\\ue01fdence). {2.2.3}',\n",
       " ' Most observed adaptation responses are fragmented, incremental18, sector-speci\\ue01ec and unequally distributed across \\nregions. Despite progress, adaptation gaps exist across sectors and regions, and will continue to grow under current \\nlevels of implementation, with the largest adaptation gaps among lower income groups. (high con\\ue01fdence) {2.3.2}',\n",
       " ' There is increased evidence of maladaptation in various sectors and regions. Maladaptation especially affects \\nmarginalised and vulnerable groups adversely. (high con\\ue01fdence) {2.3.2}',\n",
       " ' Soft limits to adaptation are currently being experienced by small-scale farmers and households along some low-\\nlying coastal areas (medium con\\ue01fdence) resulting from \\ue01enancial, governance, institutional and policy constraints \\n(high con\\ue01fdence). Some tropical, coastal, polar and mountain ecosystems have reached hard adaptation limits (high \\ncon\\ue01fdence). Adaptation does not prevent all losses and damages, even with effective adaptation and before reaching \\nsoft and hard limits (high con\\ue01fdence). {2.3.2}\\n15 Effectiveness refers here to the extent to which an adaptation option is anticipated or observed to reduce climate-related risk. {2.2.3}\\n16 See Annex I: Glossary. {2.2.3}\\n17 Ecosystem-based Adaptation (EbA) is recognized internationally under the Convention on Biological Diversity (CBD14/5). A related concept is Nature-based \\nSolutions (NbS), see Annex I: Glossary.\\n18 Incremental adaptations to change in climate are understood as extensions of actions and behaviours that already reduce the losses or enhance the \\nbene\\ue01fts of natural variations in extreme weather/climate events. {2.3.2}']"
      ]
     },
     "execution_count": 78,
     "metadata": {},
     "output_type": "execute_result"
    }
   ],
   "source": [
    "find_sections(prova_text)"
   ]
  },
  {
   "cell_type": "code",
   "execution_count": 46,
   "metadata": {},
   "outputs": [
    {
     "data": {
      "text/plain": [
       "'7Summary for Policymakers\\nSummary for Policymakers\\nFigure SPM.1: (a) Climate change has already caused widespread impacts and related losses and damages on human systems and altered terrestrial, \\nfreshwater and ocean ecosystems worldwide. Physical water availability includes balance of water available from various sources including ground water, water \\nquality and demand for water. Global mental health and displacement assessments re\\ue01eect only assessed regions. Con\\ue01fdence levels re\\ue01eect the assessment of \\nattribution of the observed impact to climate change. (b) Observed impacts are connected to physical climate changes including many that have been attributed \\nto human in\\ue01euence such as the selected climatic impact-drivers shown. Con\\ue01fdence and likelihood levels re\\ue01eect the assessment of attribution of the observed \\nclimatic impact-driver to human in\\ue01euence. (c) Observed (1900–2020) and projected (2021–2100) changes in global surface temperature (relative to 1850-1900), \\nwhich are linked to changes in climate conditions and impacts, illustrate how the climate has already changed and will change along the lifespan of three Adverse impacts from human-caused \\nclimate change will continue to intensify\\nTerrestrial\\necosystemsFreshwater\\necosystemsOcean\\necosystemsa) Observed widespread and substantial impacts and \\nrelated losses and damages attributed to climate change\\nCon\\ue01cdence in attribution \\nto climate change\\nHigh or very high con\\ue013dence\\nMedium con\\ue013dence\\nLow con\\ue013denceIncludes changes in ecosystem structure, \\nspecies ranges and seasonal timingBiodiversity and ecosystemsWater availability and food production Health and well-being\\nCities, settlements and infrastructure\\nInland\\n\\ue008ooding and\\nassociated \\ndamagesFlood/storm \\ninduced\\ndamages in\\ncoastal areasDamages\\nto key\\neconomic\\nsectorsDamages \\nto infra-\\nstructurePhysical \\nwater \\navailabilityAgriculture/\\ncrop \\nproductionFisheries\\nyields and\\naquaculture \\nproductionAnimal and\\nlivestock\\nhealth and \\nproductivityInfectious\\ndiseasesDisplacement Mental\\nhealthHeat,\\nmalnutrition\\nand harm \\nfrom wild\\ue0a0reObserved increase in climate impacts \\nto human systems and ecosystems \\nassessed at global level\\nAdverse impacts\\nAdverse and positive impacts\\nClimate-driven changes observed, \\nno global assessment of impact directionKey\\n1900 1940 1980 2060 2100\\nvery high\\nhigh\\nvery lowlowintermediate2020future experiences depend on \\nhow we address climate change2011-2020 was \\naround 1.1°C warmer \\nthan 1850-1900\\n  warming \\ncontinues \\nbeyond \\n2100\\n70 years \\nold in 2050born\\nin 1980born\\nin 2020\\nborn\\nin 1950\\n70 years \\nold in 2090\\n70 years \\nold in 2020\\nGlobal temperature change above 1850-1900 levels\\n°C\\n0 0.5 1 1.5 2 2.5 3 4 3.5c) The extent to which current and future generations will experience a   \\n hotter and different world depends on choices now and in the near term\\nFuture emissions \\nscenarios:b) Impacts are driven by changes in multiple physical climate \\nconditions, which are increasingly attributed to human in\\ue002uence\\nAttribution of observed physical climate changes to human in\\ue008uence:\\nVirtually certain\\nIncrease \\nin hot \\nextremes Upper \\nocean\\nacidi\\ue0a0cationpHLikely\\nIncrease \\nin heavy \\nprecipitationVery likely\\nGlobal sea\\nlevel riseGlacier\\nretreatMedium con\\ue013dence\\nIncrease in \\ncompound\\n\\ue008oodingIncrease in \\nagricultural \\n& ecological \\ndroughtIncrease \\nin \\ue0a0re\\nweather'"
      ]
     },
     "execution_count": 46,
     "metadata": {},
     "output_type": "execute_result"
    }
   ],
   "source": [
    "pdf.pages[12].extract_text()"
   ]
  },
  {
   "cell_type": "code",
   "execution_count": 40,
   "metadata": {},
   "outputs": [],
   "source": [
    "sections = find_sections(prova)"
   ]
  },
  {
   "cell_type": "code",
   "execution_count": 44,
   "metadata": {},
   "outputs": [
    {
     "data": {
      "text/plain": [
       "' Global net anthropogenic GHG emissions have been estimated to be 59 ± 6.6 GtCO 2-eq9 in 2019, about 12% (6.5 GtCO 2-eq) \\nhigher than in 2010 and 54% (21 GtCO 2-eq) higher than in 1990, with the largest share and growth in gross GHG emissions \\noccurring in CO 2 from fossil fuels combustion and industrial processes (CO 2-FFI) followed by methane, whereas the highest \\nrelative growth occurred in \\ue01duorinated gases (F-gases), starting from low levels in 1990. Average annual GHG emissions \\nduring 2010–2019 were higher than in any previous decade on record, while the rate of growth between 2010 and \\n2019 (1.3% yr-1) was lower than that between 2000 and 2009 (2.1% yr-1). In 2019, approximately 79% of global GHG \\n5 Ranges given throughout the SPM represent very likely ranges (5–95% range) unless otherwise stated.\\n6 The estimated increase in global surface temperature since AR5 is principally due to further warming since 2003–2012 (0.19 [0.16 to 0.22] °C). Additionally, \\nmethodological advances and new datasets have provided a more complete spatial representation of changes in surface temperature, including in the \\nArctic. These and other improvements have also increased the estimate of global surface temperature change by approximately 0.1°C, but this increase \\ndoes not represent additional physical warming since AR5.\\n7 The period distinction with A.1.1 arises because the attribution studies consider this slightly earlier period. The observed warming to 2010–2019 \\nis 1.06 [0.88 to 1.21]°C.\\n8 Contributions from emissions to the 2010–2019 warming relative to 1850–1900 assessed from radiative forcing studies are: CO 2 0.8 [0.5 to 1.2]°C; \\nmethane 0.5 [0.3 to 0.8]°C; nitrous oxide 0.1 [0.0 to 0.2]°C and \\ue01euorinated gases 0.1 [0.0 to 0.2]°C. {2.1.1}\\n9 GHG emission metrics are used to express emissions of different greenhouse gases in a common unit. Aggregated GHG emissions in this report are stated in CO 2-\\nequivalents (CO 2-eq) using the Global Warming Potential with a time horizon of 100 years (GWP100) with values based on the contribution of Working Group I to \\nthe AR6. The AR6 WGI and WGIII reports contain updated emission metric values, evaluations of different metrics with regard to mitigation objectives, and \\nassess new approaches to aggregating gases. The choice of metric depends on the purpose of the analysis and all GHG emission metrics have limitations \\nand uncertainties, given that they simplify the complexity of the physical climate system and its response to past and future GHG emissions. {2.1.1}'"
      ]
     },
     "execution_count": 44,
     "metadata": {},
     "output_type": "execute_result"
    }
   ],
   "source": [
    "sections[-1]"
   ]
  },
  {
   "cell_type": "code",
   "execution_count": 27,
   "metadata": {},
   "outputs": [
    {
     "data": {
      "text/plain": [
       "'4Summary for PolicymakersSummary for PolicymakersA. Current Status and Trends\\nObserved Warming and its Causes\\nA.1 Human activities, principally through emissions of greenhouse gases, have unequivocally \\ncaused global warming, with global surface temperature reaching 1.1°C above 1850-1900 \\nin 2011-2020. Global greenhouse gas emissions have continued to increase, with unequal \\nhistorical and ongoing contributions arising from unsustainable energy use, land use and \\nland-use change, lifestyles and patterns of consumption and production across regions, \\nbetween and within countries, and among individuals (high confdence). {2.1, Figure 2.1, \\nFigure 2.2}\\nA.1.1 Global surface temperature was 1.09 [0.95 to 1.20]°C5 higher in 2011–2020 than 1850–19006, with larger increases \\nover land (1.59 [1.34 to 1.83]°C) than over the ocean (0.88 [0.68 to 1.01]°C). Global surface temperature in the \\ue01erst two \\ndecades of the 21st century (2001–2020) was 0.99 [0.84 to 1.10]°C higher than 1850–1900. Global surface temperature \\nhas increased faster since 1970 than in any other 50-year period over at least the last 2000 years (high con\\ue01fdence). \\n{2.1.1, Figure 2.1}\\nA.1.2  The likely range of total human-caused global surface temperature increase from 1850–1900 to 2010–20197 is 0.8°C to \\n1.3°C, with a best estimate of 1.07°C. Over this period, it is likely that well-mixed greenhouse gases (GHGs) contributed \\na warming of 1.0°C to 2.0°C8, and other human drivers (principally aerosols) contributed a cooling of 0.0°C to 0.8°C, \\nnatural (solar and volcanic) drivers changed global surface temperature by –0.1°C to +0.1°C, and internal variability \\nchanged it by –0.2°C to +0.2°C. {2.1.1, Figure 2.1}\\nA.1.3 Observed increases in well-mixed GHG concentrations since around 1750 are unequivocally caused by GHG emissions \\nfrom human activities over this period. Historical cumulative net CO 2 emissions from 1850 to 2019 were 2400 ± 240 GtCO 2 \\nof which more than half (58%) occurred between 1850 and 1989, and about 42% occurred between 1990 and 2019 (high \\ncon\\ue01fdence). In 2019, atmospheric CO 2 concentrations (410 parts per million) were higher than at any time in at least 2 \\nmillion years (high con\\ue01fdence), and concentrations of methane (1866 parts per billion) and nitrous oxide (332 parts per \\nbillion) were higher than at any time in at least 800,000 years (very high con\\ue01fdence). {2.1.1, Figure 2.1}\\nA.1.4 Global net anthropogenic GHG emissions have been estimated to be 59 ± 6.6 GtCO 2-eq9 in 2019, about 12% (6.5 GtCO 2-eq) \\nhigher than in 2010 and 54% (21 GtCO 2-eq) higher than in 1990, with the largest share and growth in gross GHG emissions \\noccurring in CO 2 from fossil fuels combustion and industrial processes (CO 2-FFI) followed by methane, whereas the highest \\nrelative growth occurred in \\ue01duorinated gases (F-gases), starting from low levels in 1990. Average annual GHG emissions \\nduring 2010–2019 were higher than in any previous decade on record, while the rate of growth between 2010 and \\n2019 (1.3% yr-1) was lower than that between 2000 and 2009 (2.1% yr-1). In 2019, approximately 79% of global GHG \\n5 Ranges given throughout the SPM represent very likely ranges (5–95% range) unless otherwise stated.\\n6 The estimated increase in global surface temperature since AR5 is principally due to further warming since 2003–2012 (0.19 [0.16 to 0.22] °C). Additionally, \\nmethodological advances and new datasets have provided a more complete spatial representation of changes in surface temperature, including in the \\nArctic. These and other improvements have also increased the estimate of global surface temperature change by approximately 0.1°C, but this increase \\ndoes not represent additional physical warming since AR5.\\n7 The period distinction with A.1.1 arises because the attribution studies consider this slightly earlier period. The observed warming to 2010–2019 \\nis 1.06 [0.88 to 1.21]°C.\\n8 Contributions from emissions to the 2010–2019 warming relative to 1850–1900 assessed from radiative forcing studies are: CO 2 0.8 [0.5 to 1.2]°C; \\nmethane 0.5 [0.3 to 0.8]°C; nitrous oxide 0.1 [0.0 to 0.2]°C and \\ue01euorinated gases 0.1 [0.0 to 0.2]°C. {2.1.1}\\n9 GHG emission metrics are used to express emissions of different greenhouse gases in a common unit. Aggregated GHG emissions in this report are stated in CO 2-\\nequivalents (CO 2-eq) using the Global Warming Potential with a time horizon of 100 years (GWP100) with values based on the contribution of Working Group I to \\nthe AR6. The AR6 WGI and WGIII reports contain updated emission metric values, evaluations of different metrics with regard to mitigation objectives, and \\nassess new approaches to aggregating gases. The choice of metric depends on the purpose of the analysis and all GHG emission metrics have limitations \\nand uncertainties, given that they simplify the complexity of the physical climate system and its response to past and future GHG emissions. {2.1.1}'"
      ]
     },
     "execution_count": 27,
     "metadata": {},
     "output_type": "execute_result"
    }
   ],
   "source": [
    "prova"
   ]
  },
  {
   "cell_type": "code",
   "execution_count": 28,
   "metadata": {},
   "outputs": [],
   "source": [
    "we=\"\\nA.1 Human activities, principally through emissions of greenhouse gases, have unequivocally \\ncaused global warming, with global surface temperature reaching 1.1°C above 1850-1900 \\nin 2011-2020. Global greenhouse gas emissions have continued to increase, with unequal \\nhistorical and ongoing contributions arising from unsustainable energy use, land use and \\nland-use change, lifestyles and patterns of consumption and production across regions, \\nbetween and within countries, and among individuals (high confdence). {2.1, Figure 2.1, \\nFigure 2.2}\\nA.1.1 Global surface temperature was 1.09 [0.95 to 1.20]°C5 higher in 2011–2020 than 1850–19006, with larger increases \\nover land (1.59 [1.34 to 1.83]°C) than over the ocean (0.88 [0.68 to 1.01]°C). Global surface temperature in the \\ue01erst two \\ndecades of the 21st century (2001–2020) was 0.99 [0.84 to 1.10]°C higher than 1850–1900. Global surface temperature \\nhas increased faster since 1970 than in any other 50-year period over at least the last 2000 years (high con\\ue01fdence). \\n{2.1.1, Figure 2.1}\\nA.1.2  The likely\""
   ]
  },
  {
   "cell_type": "code",
   "execution_count": 33,
   "metadata": {},
   "outputs": [
    {
     "data": {
      "text/plain": [
       "['\\nA.1.1', '\\nA.1.2', '\\nA.1.3', '\\nA.1.4']"
      ]
     },
     "execution_count": 33,
     "metadata": {},
     "output_type": "execute_result"
    }
   ],
   "source": [
    "re.findall(\"\\n[A-E]\\.(?:\\d\\.)+\\d\", prova)"
   ]
  }
 ],
 "metadata": {
  "kernelspec": {
   "display_name": "Python 3",
   "language": "python",
   "name": "python3"
  },
  "language_info": {
   "codemirror_mode": {
    "name": "ipython",
    "version": 3
   },
   "file_extension": ".py",
   "mimetype": "text/x-python",
   "name": "python",
   "nbconvert_exporter": "python",
   "pygments_lexer": "ipython3",
   "version": "3.10.12"
  }
 },
 "nbformat": 4,
 "nbformat_minor": 2
}
